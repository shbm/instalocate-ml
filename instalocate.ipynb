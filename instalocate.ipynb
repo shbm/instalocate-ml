{
 "cells": [
  {
   "cell_type": "code",
   "execution_count": 1,
   "metadata": {
    "collapsed": true
   },
   "outputs": [],
   "source": [
    "import pandas as pd\n",
    "import matplotlib.pyplot as plt\n",
    "import seaborn as sns\n",
    "import numpy as np\n"
   ]
  },
  {
   "cell_type": "code",
   "execution_count": 2,
   "metadata": {
    "collapsed": true
   },
   "outputs": [],
   "source": [
    "df = pd.read_csv('./sample_data_feb_2018.csv')\n",
    "df1 = pd.read_csv('./sample_data_mar_2018.csv')\n",
    "\n",
    "df = pd.concat([df, df1])"
   ]
  },
  {
   "cell_type": "code",
   "execution_count": 3,
   "metadata": {},
   "outputs": [
    {
     "data": {
      "text/html": [
       "<div>\n",
       "<style scoped>\n",
       "    .dataframe tbody tr th:only-of-type {\n",
       "        vertical-align: middle;\n",
       "    }\n",
       "\n",
       "    .dataframe tbody tr th {\n",
       "        vertical-align: top;\n",
       "    }\n",
       "\n",
       "    .dataframe thead th {\n",
       "        text-align: right;\n",
       "    }\n",
       "</style>\n",
       "<table border=\"1\" class=\"dataframe\">\n",
       "  <thead>\n",
       "    <tr style=\"text-align: right;\">\n",
       "      <th></th>\n",
       "      <th>departure_date</th>\n",
       "      <th>airline_code</th>\n",
       "      <th>flight_number</th>\n",
       "      <th>source_airport</th>\n",
       "      <th>destination_airport</th>\n",
       "      <th>flight_status</th>\n",
       "      <th>departure_scheduled_time</th>\n",
       "      <th>departure_actual_time</th>\n",
       "      <th>arrival_scheduled_time</th>\n",
       "      <th>arrival_actual_time</th>\n",
       "    </tr>\n",
       "  </thead>\n",
       "  <tbody>\n",
       "    <tr>\n",
       "      <th>0</th>\n",
       "      <td>2018-02-01</td>\n",
       "      <td>EK</td>\n",
       "      <td>5010</td>\n",
       "      <td>LHR</td>\n",
       "      <td>DXB</td>\n",
       "      <td>LANDED</td>\n",
       "      <td>1.517486e+09</td>\n",
       "      <td>1517486460</td>\n",
       "      <td>1.517512e+09</td>\n",
       "      <td>1.517511e+09</td>\n",
       "    </tr>\n",
       "    <tr>\n",
       "      <th>1</th>\n",
       "      <td>2018-02-01</td>\n",
       "      <td>IB</td>\n",
       "      <td>4649</td>\n",
       "      <td>LHR</td>\n",
       "      <td>BWI</td>\n",
       "      <td>LANDED</td>\n",
       "      <td>1.517498e+09</td>\n",
       "      <td>1517498940</td>\n",
       "      <td>1.517528e+09</td>\n",
       "      <td>1.517530e+09</td>\n",
       "    </tr>\n",
       "    <tr>\n",
       "      <th>2</th>\n",
       "      <td>2018-02-01</td>\n",
       "      <td>NZ</td>\n",
       "      <td>4292</td>\n",
       "      <td>LHR</td>\n",
       "      <td>AUH</td>\n",
       "      <td>LANDED</td>\n",
       "      <td>1.517476e+09</td>\n",
       "      <td>1517475840</td>\n",
       "      <td>1.517502e+09</td>\n",
       "      <td>1.517500e+09</td>\n",
       "    </tr>\n",
       "    <tr>\n",
       "      <th>3</th>\n",
       "      <td>2018-02-01</td>\n",
       "      <td>KE</td>\n",
       "      <td>503</td>\n",
       "      <td>LHR</td>\n",
       "      <td>CDG</td>\n",
       "      <td>LANDED</td>\n",
       "      <td>1.517516e+09</td>\n",
       "      <td>1517516820</td>\n",
       "      <td>1.517521e+09</td>\n",
       "      <td>1.517521e+09</td>\n",
       "    </tr>\n",
       "    <tr>\n",
       "      <th>4</th>\n",
       "      <td>2018-02-01</td>\n",
       "      <td>JJ</td>\n",
       "      <td>2861</td>\n",
       "      <td>LHR</td>\n",
       "      <td>GVA</td>\n",
       "      <td>LANDED</td>\n",
       "      <td>1.517505e+09</td>\n",
       "      <td>1517504460</td>\n",
       "      <td>1.517511e+09</td>\n",
       "      <td>1.517510e+09</td>\n",
       "    </tr>\n",
       "  </tbody>\n",
       "</table>\n",
       "</div>"
      ],
      "text/plain": [
       "  departure_date airline_code  flight_number source_airport  \\\n",
       "0     2018-02-01           EK           5010            LHR   \n",
       "1     2018-02-01           IB           4649            LHR   \n",
       "2     2018-02-01           NZ           4292            LHR   \n",
       "3     2018-02-01           KE            503            LHR   \n",
       "4     2018-02-01           JJ           2861            LHR   \n",
       "\n",
       "  destination_airport flight_status  departure_scheduled_time  \\\n",
       "0                 DXB        LANDED              1.517486e+09   \n",
       "1                 BWI        LANDED              1.517498e+09   \n",
       "2                 AUH        LANDED              1.517476e+09   \n",
       "3                 CDG        LANDED              1.517516e+09   \n",
       "4                 GVA        LANDED              1.517505e+09   \n",
       "\n",
       "   departure_actual_time  arrival_scheduled_time  arrival_actual_time  \n",
       "0             1517486460            1.517512e+09         1.517511e+09  \n",
       "1             1517498940            1.517528e+09         1.517530e+09  \n",
       "2             1517475840            1.517502e+09         1.517500e+09  \n",
       "3             1517516820            1.517521e+09         1.517521e+09  \n",
       "4             1517504460            1.517511e+09         1.517510e+09  "
      ]
     },
     "execution_count": 3,
     "metadata": {},
     "output_type": "execute_result"
    }
   ],
   "source": [
    "df.head()"
   ]
  },
  {
   "cell_type": "code",
   "execution_count": 4,
   "metadata": {},
   "outputs": [
    {
     "data": {
      "text/plain": [
       "departure_date               object\n",
       "airline_code                 object\n",
       "flight_number                 int64\n",
       "source_airport               object\n",
       "destination_airport          object\n",
       "flight_status                object\n",
       "departure_scheduled_time    float64\n",
       "departure_actual_time         int64\n",
       "arrival_scheduled_time      float64\n",
       "arrival_actual_time         float64\n",
       "dtype: object"
      ]
     },
     "execution_count": 4,
     "metadata": {},
     "output_type": "execute_result"
    }
   ],
   "source": [
    "df.dtypes"
   ]
  },
  {
   "cell_type": "code",
   "execution_count": 5,
   "metadata": {
    "collapsed": true
   },
   "outputs": [],
   "source": [
    "# First convert all the dates to date time\n",
    "\n",
    "df['departure_date'] = pd.to_datetime(df['departure_date'])\n",
    "df['departure_scheduled_time'] = pd.to_datetime(df['departure_scheduled_time'], unit='s')\n",
    "df['departure_actual_time'] = pd.to_datetime(df['departure_actual_time'], unit='s')\n",
    "df['arrival_scheduled_time'] = pd.to_datetime(df['arrival_scheduled_time'], unit='s')\n",
    "df['arrival_actual_time'] = pd.to_datetime(df['arrival_actual_time'], unit='s')"
   ]
  },
  {
   "cell_type": "code",
   "execution_count": 6,
   "metadata": {},
   "outputs": [
    {
     "data": {
      "text/plain": [
       "departure_date              datetime64[ns]\n",
       "airline_code                        object\n",
       "flight_number                        int64\n",
       "source_airport                      object\n",
       "destination_airport                 object\n",
       "flight_status                       object\n",
       "departure_scheduled_time    datetime64[ns]\n",
       "departure_actual_time       datetime64[ns]\n",
       "arrival_scheduled_time      datetime64[ns]\n",
       "arrival_actual_time         datetime64[ns]\n",
       "dtype: object"
      ]
     },
     "execution_count": 6,
     "metadata": {},
     "output_type": "execute_result"
    }
   ],
   "source": [
    "df.dtypes"
   ]
  },
  {
   "cell_type": "code",
   "execution_count": 10,
   "metadata": {},
   "outputs": [
    {
     "data": {
      "text/plain": [
       "departure_date                 0\n",
       "airline_code                   0\n",
       "flight_number                  0\n",
       "source_airport                 0\n",
       "destination_airport            0\n",
       "flight_status                  0\n",
       "departure_scheduled_time     794\n",
       "departure_actual_time          0\n",
       "arrival_scheduled_time       768\n",
       "arrival_actual_time         2086\n",
       "dtype: int64"
      ]
     },
     "execution_count": 10,
     "metadata": {},
     "output_type": "execute_result"
    }
   ],
   "source": [
    "# Let's find any missing values\n",
    "df.isnull().sum()\n"
   ]
  },
  {
   "cell_type": "code",
   "execution_count": 14,
   "metadata": {},
   "outputs": [
    {
     "name": "stdout",
     "output_type": "stream",
     "text": [
      "total missing values 3648\n"
     ]
    }
   ],
   "source": [
    "# Total missing values\n",
    "print(f'total missing values {df.isnull().sum().sum()}')"
   ]
  },
  {
   "cell_type": "code",
   "execution_count": 17,
   "metadata": {},
   "outputs": [
    {
     "name": "stdout",
     "output_type": "stream",
     "text": [
      "Fraction of missing data:  3.4989113858489755 %\n"
     ]
    }
   ],
   "source": [
    "# Since only a small poertion of the data is missing we can remove them\n",
    "missing_data_fraction = (df.isnull().sum().sum())/df.shape[0]\n",
    "print('Fraction of missing data: ', missing_data_fraction*100, \"%\")"
   ]
  },
  {
   "cell_type": "code",
   "execution_count": 18,
   "metadata": {
    "collapsed": true
   },
   "outputs": [],
   "source": [
    "df.dropna(inplace=True)\n"
   ]
  },
  {
   "cell_type": "code",
   "execution_count": 26,
   "metadata": {
    "scrolled": true
   },
   "outputs": [
    {
     "name": "stdout",
     "output_type": "stream",
     "text": [
      "airline_code\n",
      "4U     12\n",
      "9W     17\n",
      "A3     12\n",
      "AA    339\n",
      "AC     76\n",
      "AD      1\n",
      "AF     16\n",
      "AH      1\n",
      "AI     13\n",
      "AM      6\n",
      "AT      2\n",
      "AV      8\n",
      "AY     91\n",
      "AZ      6\n",
      "BA    484\n",
      "BE      8\n",
      "BG      1\n",
      "BI      1\n",
      "BM      3\n",
      "BR      1\n",
      "BT      1\n",
      "CA      3\n",
      "CI      1\n",
      "CO      1\n",
      "CX     41\n",
      "CZ      8\n",
      "DL     47\n",
      "DT      1\n",
      "EI     84\n",
      "EK     11\n",
      "     ... \n",
      "PR      1\n",
      "QF     27\n",
      "QR     28\n",
      "RJ     12\n",
      "RO      1\n",
      "RU      1\n",
      "S4      1\n",
      "S7      5\n",
      "SA     16\n",
      "SK     28\n",
      "SN     10\n",
      "SQ     36\n",
      "SU      9\n",
      "SV      7\n",
      "TG      4\n",
      "TK      7\n",
      "TP     20\n",
      "TU      1\n",
      "UA     80\n",
      "UL      9\n",
      "UU      1\n",
      "VA      7\n",
      "VN      3\n",
      "VS     42\n",
      "VY      3\n",
      "WY      2\n",
      "X3      3\n",
      "XY      3\n",
      "ZI      1\n",
      "ZT      2\n",
      "Name: flight_number, Length: 102, dtype: int64\n"
     ]
    }
   ],
   "source": [
    "unique_flights = df.groupby('airline_code')['flight_number'].nunique()\n",
    "print(unique_flights)"
   ]
  },
  {
   "cell_type": "code",
   "execution_count": 27,
   "metadata": {},
   "outputs": [
    {
     "data": {
      "text/html": [
       "<div>\n",
       "<style scoped>\n",
       "    .dataframe tbody tr th:only-of-type {\n",
       "        vertical-align: middle;\n",
       "    }\n",
       "\n",
       "    .dataframe tbody tr th {\n",
       "        vertical-align: top;\n",
       "    }\n",
       "\n",
       "    .dataframe thead th {\n",
       "        text-align: right;\n",
       "    }\n",
       "</style>\n",
       "<table border=\"1\" class=\"dataframe\">\n",
       "  <thead>\n",
       "    <tr style=\"text-align: right;\">\n",
       "      <th></th>\n",
       "      <th>departure_date</th>\n",
       "      <th>airline_code</th>\n",
       "      <th>flight_number</th>\n",
       "      <th>source_airport</th>\n",
       "      <th>destination_airport</th>\n",
       "      <th>flight_status</th>\n",
       "      <th>departure_scheduled_time</th>\n",
       "      <th>departure_actual_time</th>\n",
       "      <th>arrival_scheduled_time</th>\n",
       "      <th>arrival_actual_time</th>\n",
       "    </tr>\n",
       "  </thead>\n",
       "  <tbody>\n",
       "  </tbody>\n",
       "</table>\n",
       "</div>"
      ],
      "text/plain": [
       "Empty DataFrame\n",
       "Columns: [departure_date, airline_code, flight_number, source_airport, destination_airport, flight_status, departure_scheduled_time, departure_actual_time, arrival_scheduled_time, arrival_actual_time]\n",
       "Index: []"
      ]
     },
     "execution_count": 27,
     "metadata": {},
     "output_type": "execute_result"
    }
   ],
   "source": [
    "df[(df['flight_status'] != \"LANDED\")]"
   ]
  },
  {
   "cell_type": "code",
   "execution_count": 28,
   "metadata": {
    "collapsed": true
   },
   "outputs": [],
   "source": [
    "#Landed feature is useless.\n",
    "df.drop(['flight_status'], axis=1, inplace=True)"
   ]
  },
  {
   "cell_type": "code",
   "execution_count": 29,
   "metadata": {
    "collapsed": true
   },
   "outputs": [],
   "source": [
    "#Make dates categorical\n",
    "\n",
    "df['departure_date_day_of_week']=df.departure_date.dt.dayofweek\n",
    "df['departure_date_day_of_month']=df.departure_date.dt.day\n",
    "df['departure_date_month_of_year']=df.departure_date.dt.month\n",
    "df['departure_date_year']=df.departure_date.dt.year\n",
    "\n",
    "df['departure_scheduled_time_day_of_week']=df.departure_scheduled_time.dt.dayofweek\n",
    "df['departure_scheduled_time_day']=df.departure_scheduled_time.dt.day\n",
    "df['departure_scheduled_time_month_of_year']=df.departure_scheduled_time.dt.month\n",
    "df['departure_scheduled_time_year']=df.departure_scheduled_time.dt.year\n",
    "\n",
    "df['departure_actual_time_day_of_week']=df.departure_actual_time.dt.dayofweek\n",
    "df['departure_actual_time_day']=df.departure_actual_time.dt.day\n",
    "df['departure_actual_time_month_of_year']=df.departure_actual_time.dt.month\n",
    "df['departure_actual_time_year']=df.departure_actual_time.dt.year\n",
    "\n",
    "df['arrival_scheduled_time_day_of_week']=df.arrival_scheduled_time.dt.dayofweek\n",
    "df['arrival_scheduled_time_day']=df.arrival_scheduled_time.dt.day\n",
    "df['arrival_scheduled_time_month_of_year']=df.arrival_scheduled_time.dt.month\n",
    "df['arrival_scheduled_time_year']=df.arrival_scheduled_time.dt.year\n",
    "\n",
    "df['arrival_actual_time_day_of_week']=df.arrival_actual_time.dt.dayofweek\n",
    "df['arrival_actual_time_day']=df.arrival_actual_time.dt.day\n",
    "df['arrival_actual_time_month_of_year']=df.arrival_actual_time.dt.month\n",
    "df['arrival_actual_time_year']=df.arrival_actual_time.dt.year"
   ]
  },
  {
   "cell_type": "code",
   "execution_count": 30,
   "metadata": {
    "collapsed": true
   },
   "outputs": [],
   "source": [
    "# Dealyed target\n",
    "df['arrival_delta_minutes']=(df.arrival_actual_time-df.arrival_scheduled_time).astype('timedelta64[m]')"
   ]
  },
  {
   "cell_type": "code",
   "execution_count": 31,
   "metadata": {
    "collapsed": true
   },
   "outputs": [],
   "source": [
    "# Convert airline_code, flight_code and destination_airport to categorical\n",
    "# airline_code flight_number source_airport destination_airport\n",
    "df.airline_code = df.airline_code.astype('category')\n",
    "df.flight_number = df.flight_number.astype('category')\n",
    "df.source_airport = df.source_airport.astype('category')\n",
    "df.destination_airport = df.destination_airport.astype('category')\n"
   ]
  },
  {
   "cell_type": "code",
   "execution_count": 33,
   "metadata": {},
   "outputs": [
    {
     "name": "stdout",
     "output_type": "stream",
     "text": [
      "Number of flight 1969\n"
     ]
    }
   ],
   "source": [
    "print(f'Number of flight {df.flight_number.nunique()}')"
   ]
  },
  {
   "cell_type": "code",
   "execution_count": 34,
   "metadata": {
    "collapsed": true
   },
   "outputs": [],
   "source": [
    "X = df[['airline_code', 'destination_airport', 'flight_number',\n",
    "        'departure_date_day_of_week',\n",
    "        'departure_date_day_of_month', 'departure_date_month_of_year',\n",
    "        'departure_date_year','departure_scheduled_time_day_of_week',\n",
    "        'departure_scheduled_time_day', 'departure_scheduled_time_month_of_year',\n",
    "        'departure_scheduled_time_year', 'departure_actual_time_day_of_week',\n",
    "        'departure_actual_time_day', 'departure_actual_time_month_of_year',\n",
    "        'departure_actual_time_year', 'arrival_scheduled_time_day_of_week',\n",
    "        'arrival_scheduled_time_day', 'arrival_scheduled_time_month_of_year',\n",
    "        'arrival_scheduled_time_year', 'arrival_actual_time_day_of_week',\n",
    "        'arrival_actual_time_day', 'arrival_actual_time_month_of_year',\n",
    "        'arrival_actual_time_year','arrival_delta_minutes'\n",
    "       ]]"
   ]
  },
  {
   "cell_type": "code",
   "execution_count": 36,
   "metadata": {},
   "outputs": [],
   "source": [
    "df['delayed'] = df['arrival_delta_minutes'] > 30\n",
    "df.delayed = df.delayed.astype('int')\n",
    "\n",
    "Y = df['delayed']\n"
   ]
  },
  {
   "cell_type": "code",
   "execution_count": 38,
   "metadata": {},
   "outputs": [
    {
     "data": {
      "text/plain": [
       "0    0\n",
       "1    1\n",
       "2    0\n",
       "3    0\n",
       "4    0\n",
       "Name: delayed, dtype: int64"
      ]
     },
     "execution_count": 38,
     "metadata": {},
     "output_type": "execute_result"
    }
   ],
   "source": [
    "Y.head()"
   ]
  },
  {
   "cell_type": "code",
   "execution_count": 39,
   "metadata": {
    "collapsed": true
   },
   "outputs": [],
   "source": [
    "# One hot encode all the categorical features.\n",
    "one_hot = pd.get_dummies(X, columns=[\"airline_code\", \"destination_airport\", \"flight_number\"], prefix=[\"airline_code\", \"destination_airport\", \"flight_number\"])\n",
    "X = pd.concat([one_hot,X], axis=1)\n",
    "X.drop(['airline_code','destination_airport','flight_number'], inplace=True, axis=1)"
   ]
  },
  {
   "cell_type": "code",
   "execution_count": 54,
   "metadata": {},
   "outputs": [
    {
     "data": {
      "text/plain": [
       "(100637,)"
      ]
     },
     "execution_count": 54,
     "metadata": {},
     "output_type": "execute_result"
    }
   ],
   "source": [
    "Y.shape"
   ]
  },
  {
   "cell_type": "code",
   "execution_count": 56,
   "metadata": {},
   "outputs": [
    {
     "name": "stdout",
     "output_type": "stream",
     "text": [
      "Number of True: 11855\n",
      "Number of False: 88782\n"
     ]
    }
   ],
   "source": [
    "print(f'Number of True: {Y.sum()}')\n",
    "print(f'Number of False: {Y.shape[0]-Y.sum()}')"
   ]
  },
  {
   "cell_type": "code",
   "execution_count": 40,
   "metadata": {},
   "outputs": [
    {
     "data": {
      "text/html": [
       "<div>\n",
       "<style scoped>\n",
       "    .dataframe tbody tr th:only-of-type {\n",
       "        vertical-align: middle;\n",
       "    }\n",
       "\n",
       "    .dataframe tbody tr th {\n",
       "        vertical-align: top;\n",
       "    }\n",
       "\n",
       "    .dataframe thead th {\n",
       "        text-align: right;\n",
       "    }\n",
       "</style>\n",
       "<table border=\"1\" class=\"dataframe\">\n",
       "  <thead>\n",
       "    <tr style=\"text-align: right;\">\n",
       "      <th></th>\n",
       "      <th>departure_date_day_of_week</th>\n",
       "      <th>departure_date_day_of_month</th>\n",
       "      <th>departure_date_month_of_year</th>\n",
       "      <th>departure_date_year</th>\n",
       "      <th>departure_scheduled_time_day_of_week</th>\n",
       "      <th>departure_scheduled_time_day</th>\n",
       "      <th>departure_scheduled_time_month_of_year</th>\n",
       "      <th>departure_scheduled_time_year</th>\n",
       "      <th>departure_actual_time_day_of_week</th>\n",
       "      <th>departure_actual_time_day</th>\n",
       "      <th>...</th>\n",
       "      <th>departure_actual_time_year</th>\n",
       "      <th>arrival_scheduled_time_day_of_week</th>\n",
       "      <th>arrival_scheduled_time_day</th>\n",
       "      <th>arrival_scheduled_time_month_of_year</th>\n",
       "      <th>arrival_scheduled_time_year</th>\n",
       "      <th>arrival_actual_time_day_of_week</th>\n",
       "      <th>arrival_actual_time_day</th>\n",
       "      <th>arrival_actual_time_month_of_year</th>\n",
       "      <th>arrival_actual_time_year</th>\n",
       "      <th>arrival_delta_minutes</th>\n",
       "    </tr>\n",
       "  </thead>\n",
       "  <tbody>\n",
       "    <tr>\n",
       "      <th>0</th>\n",
       "      <td>3</td>\n",
       "      <td>1</td>\n",
       "      <td>2</td>\n",
       "      <td>2018</td>\n",
       "      <td>3</td>\n",
       "      <td>1</td>\n",
       "      <td>2</td>\n",
       "      <td>2018</td>\n",
       "      <td>3</td>\n",
       "      <td>1</td>\n",
       "      <td>...</td>\n",
       "      <td>2018</td>\n",
       "      <td>3</td>\n",
       "      <td>1</td>\n",
       "      <td>2</td>\n",
       "      <td>2018</td>\n",
       "      <td>3</td>\n",
       "      <td>1</td>\n",
       "      <td>2</td>\n",
       "      <td>2018</td>\n",
       "      <td>-17.0</td>\n",
       "    </tr>\n",
       "    <tr>\n",
       "      <th>1</th>\n",
       "      <td>3</td>\n",
       "      <td>1</td>\n",
       "      <td>2</td>\n",
       "      <td>2018</td>\n",
       "      <td>3</td>\n",
       "      <td>1</td>\n",
       "      <td>2</td>\n",
       "      <td>2018</td>\n",
       "      <td>3</td>\n",
       "      <td>1</td>\n",
       "      <td>...</td>\n",
       "      <td>2018</td>\n",
       "      <td>3</td>\n",
       "      <td>1</td>\n",
       "      <td>2</td>\n",
       "      <td>2018</td>\n",
       "      <td>4</td>\n",
       "      <td>2</td>\n",
       "      <td>2</td>\n",
       "      <td>2018</td>\n",
       "      <td>32.0</td>\n",
       "    </tr>\n",
       "    <tr>\n",
       "      <th>2</th>\n",
       "      <td>3</td>\n",
       "      <td>1</td>\n",
       "      <td>2</td>\n",
       "      <td>2018</td>\n",
       "      <td>3</td>\n",
       "      <td>1</td>\n",
       "      <td>2</td>\n",
       "      <td>2018</td>\n",
       "      <td>3</td>\n",
       "      <td>1</td>\n",
       "      <td>...</td>\n",
       "      <td>2018</td>\n",
       "      <td>3</td>\n",
       "      <td>1</td>\n",
       "      <td>2</td>\n",
       "      <td>2018</td>\n",
       "      <td>3</td>\n",
       "      <td>1</td>\n",
       "      <td>2</td>\n",
       "      <td>2018</td>\n",
       "      <td>-37.0</td>\n",
       "    </tr>\n",
       "    <tr>\n",
       "      <th>3</th>\n",
       "      <td>3</td>\n",
       "      <td>1</td>\n",
       "      <td>2</td>\n",
       "      <td>2018</td>\n",
       "      <td>3</td>\n",
       "      <td>1</td>\n",
       "      <td>2</td>\n",
       "      <td>2018</td>\n",
       "      <td>3</td>\n",
       "      <td>1</td>\n",
       "      <td>...</td>\n",
       "      <td>2018</td>\n",
       "      <td>3</td>\n",
       "      <td>1</td>\n",
       "      <td>2</td>\n",
       "      <td>2018</td>\n",
       "      <td>3</td>\n",
       "      <td>1</td>\n",
       "      <td>2</td>\n",
       "      <td>2018</td>\n",
       "      <td>4.0</td>\n",
       "    </tr>\n",
       "    <tr>\n",
       "      <th>4</th>\n",
       "      <td>3</td>\n",
       "      <td>1</td>\n",
       "      <td>2</td>\n",
       "      <td>2018</td>\n",
       "      <td>3</td>\n",
       "      <td>1</td>\n",
       "      <td>2</td>\n",
       "      <td>2018</td>\n",
       "      <td>3</td>\n",
       "      <td>1</td>\n",
       "      <td>...</td>\n",
       "      <td>2018</td>\n",
       "      <td>3</td>\n",
       "      <td>1</td>\n",
       "      <td>2</td>\n",
       "      <td>2018</td>\n",
       "      <td>3</td>\n",
       "      <td>1</td>\n",
       "      <td>2</td>\n",
       "      <td>2018</td>\n",
       "      <td>-13.0</td>\n",
       "    </tr>\n",
       "  </tbody>\n",
       "</table>\n",
       "<p>5 rows × 2301 columns</p>\n",
       "</div>"
      ],
      "text/plain": [
       "   departure_date_day_of_week  departure_date_day_of_month  \\\n",
       "0                           3                            1   \n",
       "1                           3                            1   \n",
       "2                           3                            1   \n",
       "3                           3                            1   \n",
       "4                           3                            1   \n",
       "\n",
       "   departure_date_month_of_year  departure_date_year  \\\n",
       "0                             2                 2018   \n",
       "1                             2                 2018   \n",
       "2                             2                 2018   \n",
       "3                             2                 2018   \n",
       "4                             2                 2018   \n",
       "\n",
       "   departure_scheduled_time_day_of_week  departure_scheduled_time_day  \\\n",
       "0                                     3                             1   \n",
       "1                                     3                             1   \n",
       "2                                     3                             1   \n",
       "3                                     3                             1   \n",
       "4                                     3                             1   \n",
       "\n",
       "   departure_scheduled_time_month_of_year  departure_scheduled_time_year  \\\n",
       "0                                       2                           2018   \n",
       "1                                       2                           2018   \n",
       "2                                       2                           2018   \n",
       "3                                       2                           2018   \n",
       "4                                       2                           2018   \n",
       "\n",
       "   departure_actual_time_day_of_week  departure_actual_time_day  \\\n",
       "0                                  3                          1   \n",
       "1                                  3                          1   \n",
       "2                                  3                          1   \n",
       "3                                  3                          1   \n",
       "4                                  3                          1   \n",
       "\n",
       "           ...            departure_actual_time_year  \\\n",
       "0          ...                                  2018   \n",
       "1          ...                                  2018   \n",
       "2          ...                                  2018   \n",
       "3          ...                                  2018   \n",
       "4          ...                                  2018   \n",
       "\n",
       "   arrival_scheduled_time_day_of_week  arrival_scheduled_time_day  \\\n",
       "0                                   3                           1   \n",
       "1                                   3                           1   \n",
       "2                                   3                           1   \n",
       "3                                   3                           1   \n",
       "4                                   3                           1   \n",
       "\n",
       "   arrival_scheduled_time_month_of_year  arrival_scheduled_time_year  \\\n",
       "0                                     2                         2018   \n",
       "1                                     2                         2018   \n",
       "2                                     2                         2018   \n",
       "3                                     2                         2018   \n",
       "4                                     2                         2018   \n",
       "\n",
       "   arrival_actual_time_day_of_week  arrival_actual_time_day  \\\n",
       "0                                3                        1   \n",
       "1                                4                        2   \n",
       "2                                3                        1   \n",
       "3                                3                        1   \n",
       "4                                3                        1   \n",
       "\n",
       "   arrival_actual_time_month_of_year  arrival_actual_time_year  \\\n",
       "0                                  2                      2018   \n",
       "1                                  2                      2018   \n",
       "2                                  2                      2018   \n",
       "3                                  2                      2018   \n",
       "4                                  2                      2018   \n",
       "\n",
       "   arrival_delta_minutes  \n",
       "0                  -17.0  \n",
       "1                   32.0  \n",
       "2                  -37.0  \n",
       "3                    4.0  \n",
       "4                  -13.0  \n",
       "\n",
       "[5 rows x 2301 columns]"
      ]
     },
     "execution_count": 40,
     "metadata": {},
     "output_type": "execute_result"
    }
   ],
   "source": [
    "X.head()"
   ]
  },
  {
   "cell_type": "code",
   "execution_count": 42,
   "metadata": {},
   "outputs": [
    {
     "name": "stdout",
     "output_type": "stream",
     "text": [
      " Accuracy: 0.9999006339553648\n"
     ]
    }
   ],
   "source": [
    "# Random Forest ftw!\n",
    "from sklearn.ensemble import RandomForestClassifier\n",
    "from sklearn.model_selection import train_test_split\n",
    "\n",
    "clf = RandomForestClassifier()\n",
    "X_train, X_test, y_train, y_test = train_test_split(X, Y, test_size=0.5, random_state=42)\n",
    "clf.fit(X_train, y_train)\n",
    "print(f' Accuracy: {clf.score(X_test, y_test)}')"
   ]
  },
  {
   "cell_type": "markdown",
   "metadata": {},
   "source": [
    "We can cleary see that the data seems to be overfitting. It might be because of the sparsity in the data or maybe because the data is sparsely distributed. Only 11855 is True 88782 is False(Around 7.5  times more than True).\n",
    "The accuracy can be measured better if we get a new seperate test set."
   ]
  },
  {
   "cell_type": "code",
   "execution_count": null,
   "metadata": {
    "collapsed": true
   },
   "outputs": [],
   "source": []
  }
 ],
 "metadata": {
  "kernelspec": {
   "display_name": "Python 3",
   "language": "python",
   "name": "python3"
  },
  "language_info": {
   "codemirror_mode": {
    "name": "ipython",
    "version": 3
   },
   "file_extension": ".py",
   "mimetype": "text/x-python",
   "name": "python",
   "nbconvert_exporter": "python",
   "pygments_lexer": "ipython3",
   "version": "3.6.4"
  }
 },
 "nbformat": 4,
 "nbformat_minor": 2
}
